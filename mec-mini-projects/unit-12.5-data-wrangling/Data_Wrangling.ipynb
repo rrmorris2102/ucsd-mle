{
 "cells": [
  {
   "cell_type": "markdown",
   "id": "dc8cf01a",
   "metadata": {},
   "source": [
    "# Data Wrangling and Exploration\n",
    "This notebook demonstrates how comments are downloaded from crypto-related Reddits and scanned for crypto-coin mentions\n"
   ]
  },
  {
   "cell_type": "code",
   "execution_count": 3,
   "id": "4c2b5b07",
   "metadata": {},
   "outputs": [],
   "source": [
    "import sys\n",
    "sys.path.append('../../reddit')\n",
    "\n",
    "from crypto_sentiment import CryptoSentimenter"
   ]
  },
  {
   "cell_type": "markdown",
   "id": "71c4f544",
   "metadata": {},
   "source": [
    "## CryptoSentimenter\n",
    "The CryptoSentimenter class fetches the top comments from a subreddit group.  Each comment is tokenized with nltk then each word is scanned for a list of the 100 most popular coin names ('btc', 'etc', 'doge', etc.).  Common stop words like 'are', 'as', 'but', 'we', 'an' are skipped."
   ]
  },
  {
   "cell_type": "code",
   "execution_count": 5,
   "id": "0d42d5ee",
   "metadata": {},
   "outputs": [
    {
     "name": "stdout",
     "output_type": "stream",
     "text": [
      "Found 149 coin names\n",
      "Fetched 49 articles\n",
      "Writing cryptomarkets_articles.csv\n",
      "Fetched 13 comments\n",
      "Fetched 2 comments\n",
      "Fetched 25 comments\n",
      "Fetched 35 comments\n",
      "Fetched 0 comments\n",
      "Fetched 5 comments\n",
      "Fetched 0 comments\n",
      "Fetched 2 comments\n",
      "Fetched 4 comments\n",
      "Fetched 14 comments\n",
      "Fetched 1 comments\n",
      "Fetched 2 comments\n",
      "Fetched 1 comments\n",
      "Fetched 0 comments\n",
      "Fetched 1 comments\n",
      "Fetched 0 comments\n",
      "Fetched 0 comments\n",
      "Fetched 0 comments\n",
      "Fetched 0 comments\n",
      "Fetched 4 comments\n",
      "Fetched 1 comments\n",
      "Fetched 3 comments\n",
      "Fetched 0 comments\n",
      "Fetched 0 comments\n",
      "Fetched 0 comments\n",
      "Fetched 0 comments\n",
      "Fetched 3 comments\n",
      "Fetched 0 comments\n",
      "Fetched 0 comments\n",
      "Fetched 3 comments\n",
      "Fetched 0 comments\n",
      "Fetched 0 comments\n",
      "Fetched 0 comments\n",
      "Fetched 0 comments\n",
      "Fetched 3 comments\n",
      "Fetched 0 comments\n",
      "Fetched 0 comments\n",
      "Fetched 0 comments\n",
      "Fetched 4 comments\n",
      "Fetched 1 comments\n",
      "Fetched 0 comments\n",
      "Fetched 0 comments\n",
      "Fetched 1 comments\n",
      "Fetched 0 comments\n",
      "Fetched 0 comments\n",
      "Fetched 3 comments\n",
      "Fetched 0 comments\n",
      "Fetched 7 comments\n",
      "Fetched 6 comments\n",
      "Writing cryptomarkets_comments.csv\n",
      "Found 35 coin mentions\n",
      "bitcoin\t28\n",
      "ethereum\t9\n",
      "eth\t17\n",
      "bnb\t3\n",
      "flux\t1\n",
      "white\t1\n",
      "one\t7\n",
      "btc\t14\n",
      "uniswap\t2\n",
      "doge\t3\n",
      "sol\t1\n",
      "tether\t3\n",
      "vechain\t1\n",
      "theta\t1\n",
      "btt\t1\n",
      "ankr\t1\n",
      "ada\t5\n",
      "xrp\t3\n",
      "dogecoin\t1\n",
      "cash\t4\n",
      "long\t6\n",
      "bear\t1\n",
      "sun\t2\n",
      "sand\t1\n",
      "moon\t1\n",
      "nan\t4\n",
      "link\t4\n",
      "cosmos\t1\n",
      "algo\t2\n",
      "grt\t1\n",
      "bch\t1\n",
      "atom\t1\n",
      "dot\t1\n",
      "neo\t1\n",
      "vet\t1\n",
      "Writing cryptomarkets_word_frequency.csv\n",
      "Writing sentiment_summary.csv\n"
     ]
    }
   ],
   "source": [
    "sentimenter = CryptoSentimenter()\n",
    "sentimenter.scan('/r/cryptomarkets')\n",
    "#sentimenter.scan('/r/cryptocurrency')\n",
    "#sentimenter.scan('/r/cryptocurrencies')\n",
    "#sentimenter.scan('/r/cryptomoonshots')\n",
    "#sentimenter.scan('/r/satoshistreetbets')\n",
    "print('Writing sentiment_summary.csv')\n",
    "with open('sentiment_summary.csv', 'w+') as f:\n",
    "    df = sentimenter.get_dataframe()\n",
    "    df.to_csv(f)"
   ]
  },
  {
   "cell_type": "code",
   "execution_count": 7,
   "id": "d292ec67",
   "metadata": {},
   "outputs": [
    {
     "name": "stdout",
     "output_type": "stream",
     "text": [
      "                                                        text     coin  \\\n",
      "id                                                                      \n",
      "t3_ovnt5w  $45 billion asset manager GoldenTree invests i...  bitcoin   \n",
      "t3_ovtj47  The Third-Largest Company (By Revenue) in the ...  bitcoin   \n",
      "t3_ovypx3  Don’t Listen to the Experts Saying Bitcoin Pri...  bitcoin   \n",
      "t3_ow1c0f  $100K in Bitcoin Up for Grabs as FTX’s MLB Tea...  bitcoin   \n",
      "t3_ovokm0    Evaluation of institutional interest in Bitcoin  bitcoin   \n",
      "t3_ovnll5           Bitcoin for Beginners (Common Questions)  bitcoin   \n",
      "t3_ovn9wo           Bitcoin for Beginners (Common Questions)  bitcoin   \n",
      "t3_ow7bvr  Best Bitcoin Accounting and Crypto Tax softwar...  bitcoin   \n",
      "t3_ow7buo               How to get Bitcoin Historical Price?  bitcoin   \n",
      "t3_ow72lz  Best Bitcoin Accounting and Crypto Tax softwar...  bitcoin   \n",
      "\n",
      "          sentiment  \n",
      "id                   \n",
      "t3_ovnt5w      None  \n",
      "t3_ovtj47      None  \n",
      "t3_ovypx3      None  \n",
      "t3_ow1c0f      None  \n",
      "t3_ovokm0      None  \n",
      "t3_ovnll5      None  \n",
      "t3_ovn9wo      None  \n",
      "t3_ow7bvr      None  \n",
      "t3_ow7buo      None  \n",
      "t3_ow72lz      None  \n"
     ]
    }
   ],
   "source": [
    "# Show the first few comments\n",
    "print(df.head(10))"
   ]
  },
  {
   "cell_type": "code",
   "execution_count": 29,
   "id": "16069f74",
   "metadata": {},
   "outputs": [
    {
     "name": "stdout",
     "output_type": "stream",
     "text": [
      "          count\n",
      "coin           \n",
      "bitcoin      29\n",
      "eth          17\n",
      "btc          15\n",
      "ethereum     10\n",
      "one           9\n",
      "long          6\n",
      "ada           5\n",
      "doge          4\n",
      "tether        4\n",
      "link          4\n",
      "cash          4\n",
      "uniswap       3\n",
      "xrp           3\n",
      "bnb           3\n",
      "white         2\n",
      "algo          2\n",
      "sun           2\n",
      "sol           2\n",
      "dogecoin      1\n",
      "sand          1\n",
      "vet           1\n",
      "vechain       1\n",
      "ankr          1\n",
      "theta         1\n",
      "atom          1\n",
      "bch           1\n",
      "dot           1\n",
      "neo           1\n",
      "moon          1\n",
      "bear          1\n",
      "grt           1\n",
      "btt           1\n",
      "cosmos        1\n",
      "flux          1\n",
      "nan           0\n"
     ]
    }
   ],
   "source": [
    "# Show coin counts\n",
    "stats = df[['text', 'coin']].groupby(['coin']).count()\n",
    "stats = stats.rename(columns={'text': 'count'})\n",
    "\n",
    "stats = stats.sort_values('count', ascending=False)\n",
    "print(stats)"
   ]
  },
  {
   "cell_type": "code",
   "execution_count": 30,
   "id": "a049b523",
   "metadata": {},
   "outputs": [
    {
     "data": {
      "text/plain": [
       "Text(0.5, 1.0, 'Coin Counts')"
      ]
     },
     "execution_count": 30,
     "metadata": {},
     "output_type": "execute_result"
    },
    {
     "data": {
      "image/png": "[encoded data removed]",
      "text/plain": [
       "<Figure size 432x288 with 1 Axes>"
      ]
     },
     "metadata": {
      "needs_background": "light"
     },
     "output_type": "display_data"
    }
   ],
   "source": [
    "# Plot coin counts\n",
    "import matplotlib.pyplot as plt\n",
    "%matplotlib inline\n",
    "\n",
    "stats.plot.bar()\n",
    "plt.title('Coin Counts')\n"
   ]
  },
  {
   "cell_type": "markdown",
   "id": "02a2a58c",
   "metadata": {},
   "source": [
    "## Labeled Data\n",
    "Using the above methods, 1000 labeled comments were generated at: https://raw.githubusercontent.com/rrmorris2102/ucsd-mle/main/reddit/sentiment_labels_predictions.csv"
   ]
  },
  {
   "cell_type": "code",
   "execution_count": null,
   "id": "19bf7da0",
   "metadata": {},
   "outputs": [],
   "source": []
  }
 ],
 "metadata": {
  "kernelspec": {
   "display_name": "Python 3",
   "language": "python",
   "name": "python3"
  },
  "language_info": {
   "codemirror_mode": {
    "name": "ipython",
    "version": 3
   },
   "file_extension": ".py",
   "mimetype": "text/x-python",
   "name": "python",
   "nbconvert_exporter": "python",
   "pygments_lexer": "ipython3",
   "version": "3.8.10"
  }
 },
 "nbformat": 4,
 "nbformat_minor": 5
}
