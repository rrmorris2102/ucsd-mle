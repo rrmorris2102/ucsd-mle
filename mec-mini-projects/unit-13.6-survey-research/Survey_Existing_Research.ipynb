{
 "cells": [
  {
   "cell_type": "markdown",
   "id": "529aa577",
   "metadata": {},
   "source": [
    "# Sentiment Analysis\n",
    "Sentiment analysis (https://en.wikipedia.org/wiki/Sentiment_analysis) is the use of natural language processing to identify, extract, quantify, and study subjective information. Sentiment analysis is ideal for classifying online and social media posts as positive, negative or neutral.\n",
    "\n",
    "In this notebook we will assess 3 models for sentiment analysis:\n",
    "- VADER\n",
    "- FinBERT\n",
    "- XLNet\n"
   ]
  },
  {
   "cell_type": "markdown",
   "id": "20221f25",
   "metadata": {},
   "source": [
    "# VADER\n",
    "The VADER model (Valence Aware Dictionary and sEntiment Reasoner) is ideal for assessing the sentiment of comments as positive or negative.  This is a rules-based NLP model that is pre-trained on social media data, and as such doesn't require re-training. It is sufficient to provide a curated list of positive and negative word labels.  A small sample of labeled data would be sufficient for testing the effectiveness of the model.\n",
    "\n",
    "Since this is not a deep learning model we won't dig deeper into this model.  \n"
   ]
  },
  {
   "cell_type": "markdown",
   "id": "693e59ad",
   "metadata": {},
   "source": [
    "# FinBERT\n",
    "FinBERT (https://github.com/ProsusAI/finBERT) is an NLP model for financial sentiment analysis based on BERT.  The model is pre-trained and tuned on financial text. The model is described in detail here: https://arxiv.org/pdf/1908.10063.pdf.  General purpose pre-trained NLP models are inadequate due to the specific language and terms used in the financial domain.  FinBERT solves this problem by training on a datasets specific to the financial context.\n",
    "\n",
    "The following code shows prediction examples with finBERT.\n"
   ]
  },
  {
   "cell_type": "code",
   "execution_count": 2,
   "id": "16b69e71",
   "metadata": {},
   "outputs": [],
   "source": [
    "import sys\n",
    "sys.path.append(\"../../finBERT\")\n",
    "\n",
    "from finbert.finbert import predict\n",
    "from transformers import AutoModelForSequenceClassification"
   ]
  },
  {
   "cell_type": "code",
   "execution_count": 6,
   "id": "86d16a92",
   "metadata": {},
   "outputs": [
    {
     "name": "stderr",
     "output_type": "stream",
     "text": [
      "08/01/2021 20:05:00 - INFO - finbert.utils -   *** Example ***\n",
      "08/01/2021 20:05:00 - INFO - finbert.utils -   guid: 0\n",
      "08/01/2021 20:05:00 - INFO - finbert.utils -   tokens: [CLS] shares in the spin - off of south african e - commerce group nas ##pers surged more than 25 % in the first minutes of their market debut in amsterdam on wednesday . [SEP]\n",
      "08/01/2021 20:05:00 - INFO - finbert.utils -   input_ids: 101 6661 1999 1996 6714 1011 2125 1997 2148 3060 1041 1011 6236 2177 17235 7347 18852 2062 2084 2423 1003 1999 1996 2034 2781 1997 2037 3006 2834 1999 7598 2006 9317 1012 102 0 0 0 0 0 0 0 0 0 0 0 0 0 0 0 0 0 0 0 0 0 0 0 0 0 0 0 0 0\n",
      "08/01/2021 20:05:00 - INFO - finbert.utils -   attention_mask: 1 1 1 1 1 1 1 1 1 1 1 1 1 1 1 1 1 1 1 1 1 1 1 1 1 1 1 1 1 1 1 1 1 1 1 0 0 0 0 0 0 0 0 0 0 0 0 0 0 0 0 0 0 0 0 0 0 0 0 0 0 0 0 0\n",
      "08/01/2021 20:05:00 - INFO - finbert.utils -   token_type_ids: 0 0 0 0 0 0 0 0 0 0 0 0 0 0 0 0 0 0 0 0 0 0 0 0 0 0 0 0 0 0 0 0 0 0 0 0 0 0 0 0 0 0 0 0 0 0 0 0 0 0 0 0 0 0 0 0 0 0 0 0 0 0 0 0\n",
      "08/01/2021 20:05:00 - INFO - finbert.utils -   label: None (id = 9090)\n",
      "08/01/2021 20:05:01 - INFO - root -   tensor([[ 0.7130, -0.2004, -0.5647],\n",
      "        [ 0.2573, -0.2505,  0.2979],\n",
      "        [ 0.5112, -0.7079, -0.3613],\n",
      "        [ 0.2143, -0.6824, -0.2036],\n",
      "        [ 0.2479, -0.4768, -0.5651]])\n",
      "08/01/2021 20:05:02 - INFO - finbert.utils -   *** Example ***\n",
      "08/01/2021 20:05:02 - INFO - finbert.utils -   guid: 0\n",
      "08/01/2021 20:05:02 - INFO - finbert.utils -   tokens: [CLS] euro ##ne ##xt had given an indicative price of 58 . 70 euros per share for pro ##sus , implying a market value of 95 . 3 billion euros ( $ 105 billion ) . [SEP]\n",
      "08/01/2021 20:05:02 - INFO - finbert.utils -   input_ids: 101 9944 2638 18413 2018 2445 2019 24668 3976 1997 5388 1012 3963 19329 2566 3745 2005 4013 13203 1010 20242 1037 3006 3643 1997 5345 1012 1017 4551 19329 1006 1002 8746 4551 1007 1012 102 0 0 0 0 0 0 0 0 0 0 0 0 0 0 0 0 0 0 0 0 0 0 0 0 0 0 0\n",
      "08/01/2021 20:05:02 - INFO - finbert.utils -   attention_mask: 1 1 1 1 1 1 1 1 1 1 1 1 1 1 1 1 1 1 1 1 1 1 1 1 1 1 1 1 1 1 1 1 1 1 1 1 1 0 0 0 0 0 0 0 0 0 0 0 0 0 0 0 0 0 0 0 0 0 0 0 0 0 0 0\n",
      "08/01/2021 20:05:02 - INFO - finbert.utils -   token_type_ids: 0 0 0 0 0 0 0 0 0 0 0 0 0 0 0 0 0 0 0 0 0 0 0 0 0 0 0 0 0 0 0 0 0 0 0 0 0 0 0 0 0 0 0 0 0 0 0 0 0 0 0 0 0 0 0 0 0 0 0 0 0 0 0 0\n",
      "08/01/2021 20:05:02 - INFO - finbert.utils -   label: None (id = 9090)\n",
      "08/01/2021 20:05:02 - INFO - root -   tensor([[ 0.5789, -0.6572, -0.4228],\n",
      "        [ 0.6786, -0.4457, -0.4776]])\n"
     ]
    },
    {
     "data": {
      "text/html": [
       "<div>\n",
       "<style scoped>\n",
       "    .dataframe tbody tr th:only-of-type {\n",
       "        vertical-align: middle;\n",
       "    }\n",
       "\n",
       "    .dataframe tbody tr th {\n",
       "        vertical-align: top;\n",
       "    }\n",
       "\n",
       "    .dataframe thead th {\n",
       "        text-align: right;\n",
       "    }\n",
       "</style>\n",
       "<table border=\"1\" class=\"dataframe\">\n",
       "  <thead>\n",
       "    <tr style=\"text-align: right;\">\n",
       "      <th></th>\n",
       "      <th>sentence</th>\n",
       "      <th>logit</th>\n",
       "      <th>prediction</th>\n",
       "      <th>sentiment_score</th>\n",
       "    </tr>\n",
       "  </thead>\n",
       "  <tbody>\n",
       "    <tr>\n",
       "      <th>0</th>\n",
       "      <td>Shares in the spin-off of South African e-comm...</td>\n",
       "      <td>[0.595314, 0.23879628, 0.16588964]</td>\n",
       "      <td>positive</td>\n",
       "      <td>0.356518</td>\n",
       "    </tr>\n",
       "    <tr>\n",
       "      <th>1</th>\n",
       "      <td>Bob van Dijk, CEO of Naspers and Prosus Group ...</td>\n",
       "      <td>[0.37831756, 0.2276785, 0.3940039]</td>\n",
       "      <td>neutral</td>\n",
       "      <td>0.150639</td>\n",
       "    </tr>\n",
       "    <tr>\n",
       "      <th>2</th>\n",
       "      <td>REUTERS/Piroschka van de Wouw\\nProsus comprise...</td>\n",
       "      <td>[0.58364475, 0.17245562, 0.24389963]</td>\n",
       "      <td>positive</td>\n",
       "      <td>0.411189</td>\n",
       "    </tr>\n",
       "    <tr>\n",
       "      <th>3</th>\n",
       "      <td>There is \"way more demand than is even availab...</td>\n",
       "      <td>[0.48395312, 0.19740734, 0.31863958]</td>\n",
       "      <td>positive</td>\n",
       "      <td>0.286546</td>\n",
       "    </tr>\n",
       "    <tr>\n",
       "      <th>4</th>\n",
       "      <td>\"It’s going to be an interesting hour of trade...</td>\n",
       "      <td>[0.5186951, 0.25127164, 0.23003323]</td>\n",
       "      <td>positive</td>\n",
       "      <td>0.267423</td>\n",
       "    </tr>\n",
       "    <tr>\n",
       "      <th>5</th>\n",
       "      <td>Euronext had given an indicative price of 58.7...</td>\n",
       "      <td>[0.60320425, 0.1752505, 0.22154525]</td>\n",
       "      <td>positive</td>\n",
       "      <td>0.427954</td>\n",
       "    </tr>\n",
       "    <tr>\n",
       "      <th>6</th>\n",
       "      <td>The shares jumped to 76 euros on opening and w...</td>\n",
       "      <td>[0.609923, 0.19815238, 0.1919246]</td>\n",
       "      <td>positive</td>\n",
       "      <td>0.411771</td>\n",
       "    </tr>\n",
       "  </tbody>\n",
       "</table>\n",
       "</div>"
      ],
      "text/plain": [
       "                                            sentence  \\\n",
       "0  Shares in the spin-off of South African e-comm...   \n",
       "1  Bob van Dijk, CEO of Naspers and Prosus Group ...   \n",
       "2  REUTERS/Piroschka van de Wouw\\nProsus comprise...   \n",
       "3  There is \"way more demand than is even availab...   \n",
       "4  \"It’s going to be an interesting hour of trade...   \n",
       "5  Euronext had given an indicative price of 58.7...   \n",
       "6  The shares jumped to 76 euros on opening and w...   \n",
       "\n",
       "                                  logit prediction  sentiment_score  \n",
       "0    [0.595314, 0.23879628, 0.16588964]   positive         0.356518  \n",
       "1    [0.37831756, 0.2276785, 0.3940039]    neutral         0.150639  \n",
       "2  [0.58364475, 0.17245562, 0.24389963]   positive         0.411189  \n",
       "3  [0.48395312, 0.19740734, 0.31863958]   positive         0.286546  \n",
       "4   [0.5186951, 0.25127164, 0.23003323]   positive         0.267423  \n",
       "5   [0.60320425, 0.1752505, 0.22154525]   positive         0.427954  \n",
       "6     [0.609923, 0.19815238, 0.1919246]   positive         0.411771  "
      ]
     },
     "execution_count": 6,
     "metadata": {},
     "output_type": "execute_result"
    }
   ],
   "source": [
    "import os\n",
    "\n",
    "text = \"\"\"\\\n",
    "Shares in the spin-off of South African e-commerce group Naspers surged more than 25% in the first minutes of their market debut in Amsterdam on Wednesday.\n",
    "\n",
    "Bob van Dijk, CEO of Naspers and Prosus Group poses at Amsterdam's stock exchange, as Prosus begins trading on the Euronext stock exchange in Amsterdam, Netherlands, September 11, 2019. REUTERS/Piroschka van de Wouw\n",
    "Prosus comprises Naspers’ global empire of consumer internet assets, with the jewel in the crown a 31% stake in Chinese tech titan Tencent.\n",
    "\n",
    "There is \"way more demand than is even available, so that’s good,\" said the CEO of Euronext Amsterdam, Maurice van Tilburg. \"It’s going to be an interesting hour of trade after opening this morning.\"\n",
    "\n",
    "Euronext had given an indicative price of 58.70 euros per share for Prosus, implying a market value of 95.3 billion euros ($105 billion).\n",
    "\n",
    "The shares jumped to 76 euros on opening and were trading at 75 euros at 0719 GMT.\n",
    "\"\"\"\n",
    "\n",
    "model = AutoModelForSequenceClassification.from_pretrained('../../finBERT/models/classifier_model/finbert-sentiment',num_labels=3,cache_dir=None)\n",
    "\n",
    "output = \"predictions.csv\"\n",
    "predict(text,model,write_to_csv=True,path=os.path.join('.',output))"
   ]
  },
  {
   "cell_type": "markdown",
   "id": "2ce27e54",
   "metadata": {},
   "source": [
    "# XLNet\n",
    "XLNet is an NLP model based on BERT that features a generalized autoregressive (AR) pre-training method.  By contrast, BERT is an autoencoder (AE) language model.  The reseach paper for XLNet can be found at https://arxiv.org/abs/1906.08237.  The paper argues that BERT suffers from a pretrain-finetune discrepancy and solves this problem with an autoregressive formlation that enables learning bidirectional contexts. \n",
    "\n",
    "For this project we adapted the XLnet implementation from Shanay Ghag described at  https://medium.com/swlh/using-xlnet-for-sentiment-classification-cfa948e65e85.\n",
    "\n",
    "A Python module for XLNet is provided by HuggingFace at https://huggingface.co/transformers/model_doc/xlnet.html. \n",
    "\n",
    "The following changes were made to the original implementation from Shanay Ghag to match the settings of FinBERT:\n",
    "- Expand from 2 classes (positive, negative) to 3 classes (positive, negative, neutral)\n",
    "- Decreased max sequence length from 512 to 64\n",
    "- Batch size increased from 4 to 32\n",
    "- Training epochs increased from 3 to 10\n",
    "\n",
    "In addition, the code was restructured as two Python classes: XLNetSentiment and XLNetSentimentTrain.\n",
    "\n",
    "The modified version is published here:\n",
    "https://github.com/rrmorris2102/ucsd-mle/tree/main/xlnet\n",
    "\n",
    "The following code shows a prediction example with XLNet."
   ]
  },
  {
   "cell_type": "code",
   "execution_count": 10,
   "id": "61cd49d1",
   "metadata": {},
   "outputs": [
    {
     "name": "stdout",
     "output_type": "stream",
     "text": [
      "device cuda:0\n"
     ]
    },
    {
     "name": "stderr",
     "output_type": "stream",
     "text": [
      "Some weights of the model checkpoint at xlnet-base-cased were not used when initializing XLNetForSequenceClassification: ['lm_loss.bias', 'lm_loss.weight']\n",
      "- This IS expected if you are initializing XLNetForSequenceClassification from the checkpoint of a model trained on another task or with another architecture (e.g. initializing a BertForSequenceClassification model from a BertForPreTraining model).\n",
      "- This IS NOT expected if you are initializing XLNetForSequenceClassification from the checkpoint of a model that you expect to be exactly identical (initializing a BertForSequenceClassification model from a BertForSequenceClassification model).\n",
      "Some weights of XLNetForSequenceClassification were not initialized from the model checkpoint at xlnet-base-cased and are newly initialized: ['sequence_summary.summary.weight', 'sequence_summary.summary.bias', 'logits_proj.weight', 'logits_proj.bias']\n",
      "You should probably TRAIN this model on a down-stream task to be able to use it for predictions and inference.\n"
     ]
    },
    {
     "name": "stdout",
     "output_type": "stream",
     "text": [
      "{'positive_score': 0.008360231295228004, 'negative_score': 0.9822444319725037, 'neutral_score': 0.009395359084010124, 'text': 'Movie is the worst one I have ever seen!! The story has no meaning at all', 'sentiment': 'negative'}\n"
     ]
    }
   ],
   "source": [
    "import sys\n",
    "sys.path.append(\"../../xlnet\")\n",
    "\n",
    "from xlnet import XLNetSentiment\n",
    "\n",
    "model_file = '../../xlnet/models/xlnet_model.bin'\n",
    "xlnet = XLNetSentiment(model_file, batchsize=1)\n",
    "\n",
    "text = \"Movie is the worst one I have ever seen!! The story has no meaning at all\"\n",
    "results = xlnet.predict(text)\n",
    "print(results)"
   ]
  }
 ],
 "metadata": {
  "kernelspec": {
   "display_name": "Python 3",
   "language": "python",
   "name": "python3"
  },
  "language_info": {
   "codemirror_mode": {
    "name": "ipython",
    "version": 3
   },
   "file_extension": ".py",
   "mimetype": "text/x-python",
   "name": "python",
   "nbconvert_exporter": "python",
   "pygments_lexer": "ipython3",
   "version": "3.8.10"
  }
 },
 "nbformat": 4,
 "nbformat_minor": 5
}
