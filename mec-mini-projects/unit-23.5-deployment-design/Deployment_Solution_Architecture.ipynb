{
 "cells": [
  {
   "cell_type": "markdown",
   "id": "598d1eb7",
   "metadata": {},
   "source": [
    "# Deployment Solution Architecture\n",
    "\n",
    "The software stack for the Reddit Cryptocurrency Sentiment Analysis project uses a Python based backend with Bootstrap web UI delivered as Docker container.  The project is divided into 3 micro-services and delivered as containers: Data, Web and Model\n",
    "\n",
    "The micro-services will be deployed to the Azure cloud using the Azure Container Instances service.\n",
    "\n",
    "| SW Component|Tool, utility or framework|Notes |\n",
    "| --- | --- | --- |\n",
    "| Container | Docker | Use Docker for deployment |\n",
    "| Database | CosmosDB | No-SQL cloud storage for reddit, etc social media comments |\n",
    "| Data sources | Reddit |  |\n",
    "| Scraper | Reddit API | Retrieve Reddit posts and comments |\n",
    "| Distributed task queue | Celery | Parallelize Reddit scraping and inference tasks across multiple CPUs and GPUs |\n",
    "| Messaging broker | RabbitMQ | Other options: Kafka |\n",
    "| Python | Python 3.x |  |\n",
    "| Machine Learning Framework | PyTorch |  |\n",
    "| Deep learning model | Trained XLNet model | Huggingface XLNet |\n",
    "| HTTP Server | Gunicorn or Flask built-in HTTP server |  |\n",
    "| Web backend framework | Flask | |\n",
    "| Web UI | Bootstrap |  |\n",
    "\n",
    "![Deployment Architecture](CryptoSentiment.png \"Deployment Architecture\")\n",
    "\n",
    "Periodic retraining of the sentiment model is not required since crypto semantics are not expected to change much over time.  However, since a relatively small training dataset (1000 comments) was used, precision and recall scores can be improved by labeling more data, retraining, and checking confusion matrix results.\n"
   ]
  },
  {
   "cell_type": "code",
   "execution_count": null,
   "id": "f085382c",
   "metadata": {},
   "outputs": [],
   "source": []
  }
 ],
 "metadata": {
  "kernelspec": {
   "display_name": "Python 3",
   "language": "python",
   "name": "python3"
  },
  "language_info": {
   "codemirror_mode": {
    "name": "ipython",
    "version": 3
   },
   "file_extension": ".py",
   "mimetype": "text/x-python",
   "name": "python",
   "nbconvert_exporter": "python",
   "pygments_lexer": "ipython3",
   "version": "3.8.10"
  }
 },
 "nbformat": 4,
 "nbformat_minor": 5
}
